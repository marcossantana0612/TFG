{
 "cells": [
  {
   "cell_type": "markdown",
   "id": "2288f56a-1d55-40e3-ae6d-62865d2d5242",
   "metadata": {
    "tags": []
   },
   "source": [
    "<h1> Práctica 1 </h1>"
   ]
  },
  {
   "cell_type": "markdown",
   "id": "64b49852-cf45-445b-b334-26674f3ef795",
   "metadata": {},
   "source": [
    "<body> TEXTO EJEMPLO  TEXTO EJEMPLO  TEXTO EJEMPLO  TEXTO EJEMPLO  TEXTO EJEMPLO  TEXTO EJEMPLO  TEXTO EJEMPLO  TEXTO EJEMPLO  TEXTO EJEMPLO  TEXTO EJEMPLO  TEXTO EJEMPLO  TEXTO EJEMPLO  TEXTO EJEMPLO  TEXTO EJEMPLO  TEXTO EJEMPLO  TEXTO EJEMPLO  TEXTO EJEMPLO  TEXTO EJEMPLO  TEXTO EJEMPLO  TEXTO EJEMPLO  TEXTO EJEMPLO  TEXTO EJEMPLO  TEXTO EJEMPLO  TEXTO EJEMPLO  TEXTO EJEMPLO  TEXTO EJEMPLO  TEXTO EJEMPLO  TEXTO EJEMPLO  TEXTO EJEMPLO  TEXTO EJEMPLO  TEXTO EJEMPLO  TEXTO EJEMPLO  TEXTO EJEMPLO  TEXTO EJEMPLO  TEXTO EJEMPLO  TEXTO EJEMPLO  TEXTO EJEMPLO  TEXTO EJEMPLO  TEXTO EJEMPLO\n",
    "TEXTO EJEMPLO  TEXTO EJEMPLO  TEXTO EJEMPLO  TEXTO EJEMPLO  TEXTO EJEMPLO  TEXTO EJEMPLO  TEXTO EJEMPLO  TEXTO EJEMPLO  TEXTO EJEMPLO  TEXTO EJEMPLO  TEXTO EJEMPLO  TEXTO EJEMPLO  TEXTO EJEMPLO  TEXTO EJEMPLO  TEXTO EJEMPLO  TEXTO EJEMPLO  TEXTO EJEMPLO  TEXTO EJEMPLO  TEXTO EJEMPLO  TEXTO EJEMPLO  TEXTO EJEMPLO  TEXTO EJEMPLO  TEXTO EJEMPLO  TEXTO EJEMPLO  TEXTO EJEMPLO  TEXTO EJEMPLO  TEXTO EJEMPLO  TEXTO EJEMPLO  TEXTO EJEMPLO  TEXTO EJEMPLO  TEXTO EJEMPLO  TEXTO EJEMPLO  TEXTO EJEMPLO  TEXTO EJEMPLO  TEXTO EJEMPLO  TEXTO EJEMPLO  TEXTO EJEMPLO  TEXTO EJEMPLO  TEXTO EJEMPLO \n",
    "\n",
    "\n",
    " </body>"
   ]
  },
  {
   "cell_type": "markdown",
   "id": "6c5676ae-0e7c-44d7-9fba-65728b63b5b8",
   "metadata": {},
   "source": [
    "<h3> Introduzca un comando: </h3>"
   ]
  },
  {
   "cell_type": "code",
   "execution_count": null,
   "id": "783fef9b-50ff-4f13-aa14-b0a46a74b89b",
   "metadata": {},
   "outputs": [],
   "source": []
  }
 ],
 "metadata": {
  "kernelspec": {
   "display_name": "Python 3 (ipykernel)",
   "language": "python",
   "name": "python3"
  },
  "language_info": {
   "codemirror_mode": {
    "name": "ipython",
    "version": 3
   },
   "file_extension": ".py",
   "mimetype": "text/x-python",
   "name": "python",
   "nbconvert_exporter": "python",
   "pygments_lexer": "ipython3",
   "version": "3.11.4"
  }
 },
 "nbformat": 4,
 "nbformat_minor": 5
}
