{
  "cells": [
    {
      "cell_type": "markdown",
      "id": "56371638-880a-4e02-9544-c2f9709c0372",
      "metadata": {
        "id": "56371638-880a-4e02-9544-c2f9709c0372"
      },
      "source": [
        "<!--NAVIGATION-->\n",
        "\n",
        "\n",
        "<a href=\"https://colab.research.google.com/github/marcossantana0612/TFG/blob/main/notebooks/notebook1.ipynb\" target=\"_blank\" rel=\"noopener noreferrer\"><img align=\"left\" src=\"https://colab.research.google.com/assets/colab-badge.svg\" alt=\"Open in Colab\" title=\"Open and Execute in Google Colaboratory\"></a>"
      ]
    },
    {
      "cell_type": "markdown",
      "id": "2288f56a-1d55-40e3-ae6d-62865d2d5242",
      "metadata": {
        "tags": [],
        "id": "2288f56a-1d55-40e3-ae6d-62865d2d5242"
      },
      "source": [
        "<h1> Práctica 1 (prueba)</h1>"
      ]
    },
    {
      "cell_type": "markdown",
      "id": "64b49852-cf45-445b-b334-26674f3ef795",
      "metadata": {
        "id": "64b49852-cf45-445b-b334-26674f3ef795"
      },
      "source": [
        "<body>  Uso del comando cd en la parte 1:\n",
        "\n",
        "\n",
        " </body>"
      ]
    },
    {
      "cell_type": "markdown",
      "id": "6c5676ae-0e7c-44d7-9fba-65728b63b5b8",
      "metadata": {
        "id": "6c5676ae-0e7c-44d7-9fba-65728b63b5b8"
      },
      "source": [
        "<h3> Este es el resultado esperado: </h3>"
      ]
    },
    {
      "cell_type": "code",
      "execution_count": 1,
      "id": "783fef9b-50ff-4f13-aa14-b0a46a74b89b",
      "metadata": {
        "tags": [],
        "colab": {
          "base_uri": "https://localhost:8080/"
        },
        "id": "783fef9b-50ff-4f13-aa14-b0a46a74b89b",
        "outputId": "beca7358-4ea0-40ac-89d2-db86752dfe37"
      },
      "outputs": [
        {
          "output_type": "stream",
          "name": "stdout",
          "text": [
            "total 108\n",
            "lrwxrwxrwx   1 root root     7 Oct  4  2023 bin -> usr/bin\n",
            "drwxr-xr-x   2 root root  4096 Apr 18  2022 boot\n",
            "drwxr-xr-x   1 root root  4096 Jul 26 13:19 content\n",
            "-rw-r--r--   1 root root  4332 Nov 10  2023 cuda-keyring_1.0-1_all.deb\n",
            "drwxr-xr-x   1 root root  4096 Jul 26 13:35 datalab\n",
            "drwxr-xr-x   5 root root   360 Jul 30 16:17 dev\n",
            "drwxr-xr-x   1 root root  4096 Jul 30 16:17 etc\n",
            "drwxr-xr-x   2 root root  4096 Apr 18  2022 home\n",
            "drwxr-xr-x   3 root root  4096 Jul 30 16:17 kaggle\n",
            "lrwxrwxrwx   1 root root     7 Oct  4  2023 lib -> usr/lib\n",
            "lrwxrwxrwx   1 root root     9 Oct  4  2023 lib32 -> usr/lib32\n",
            "lrwxrwxrwx   1 root root     9 Oct  4  2023 lib64 -> usr/lib64\n",
            "lrwxrwxrwx   1 root root    10 Oct  4  2023 libx32 -> usr/libx32\n",
            "drwxr-xr-x   2 root root  4096 Oct  4  2023 media\n",
            "drwxr-xr-x   2 root root  4096 Oct  4  2023 mnt\n",
            "-rw-r--r--   1 root root 17294 Nov 10  2023 NGC-DL-CONTAINER-LICENSE\n",
            "drwxr-xr-x   1 root root  4096 Jul 26 13:46 opt\n",
            "dr-xr-xr-x 206 root root     0 Jul 30 16:17 proc\n",
            "drwxr-xr-x  15 root root  4096 Jul 26 13:18 python-apt\n",
            "drwx------   1 root root  4096 Jul 30 16:18 root\n",
            "drwxr-xr-x   1 root root  4096 Jul 26 13:13 run\n",
            "lrwxrwxrwx   1 root root     8 Oct  4  2023 sbin -> usr/sbin\n",
            "drwxr-xr-x   2 root root  4096 Oct  4  2023 srv\n",
            "dr-xr-xr-x  13 root root     0 Jul 30 16:17 sys\n",
            "drwxrwxrwt   1 root root  4096 Jul 30 16:19 tmp\n",
            "drwxr-xr-x   1 root root  4096 Jul 26 13:35 tools\n",
            "drwxr-xr-x   1 root root  4096 Jul 26 13:36 usr\n",
            "drwxr-xr-x   1 root root  4096 Jul 26 13:35 var\n"
          ]
        },
        {
          "output_type": "execute_result",
          "data": {
            "text/plain": []
          },
          "metadata": {},
          "execution_count": 1
        }
      ],
      "source": [
        "#No ejecutar esta celda\n",
        "#En caso de que ejecutes esta celda, vuelve a abrir el Notebook para poder ver el resultado (o abra https://marcossantana0612.github.io/TFG/)"
      ]
    },
    {
      "cell_type": "markdown",
      "source": [
        "<h3> Introduzca un comando que genere el mismo resultado que en la celda anterior: </h3>"
      ],
      "metadata": {
        "id": "FVqNcD5ScIBi"
      },
      "id": "FVqNcD5ScIBi"
    },
    {
      "cell_type": "code",
      "execution_count": 2,
      "id": "9a9dc33a-14ab-46b4-ade3-6a1afb1d65d1",
      "metadata": {
        "colab": {
          "base_uri": "https://localhost:8080/"
        },
        "id": "9a9dc33a-14ab-46b4-ade3-6a1afb1d65d1",
        "outputId": "4f7432d5-2c19-4453-e48b-471864726ba7"
      },
      "outputs": [
        {
          "output_type": "execute_result",
          "data": {
            "text/plain": []
          },
          "metadata": {},
          "execution_count": 2
        }
      ],
      "source": [
        "%%shell\n",
        "cd .."
      ]
    }
  ],
  "metadata": {
    "kernelspec": {
      "display_name": "Python 3 (ipykernel)",
      "language": "python",
      "name": "python3"
    },
    "language_info": {
      "codemirror_mode": {
        "name": "ipython",
        "version": 3
      },
      "file_extension": ".py",
      "mimetype": "text/x-python",
      "name": "python",
      "nbconvert_exporter": "python",
      "pygments_lexer": "ipython3",
      "version": "3.11.4"
    },
    "colab": {
      "provenance": []
    }
  },
  "nbformat": 4,
  "nbformat_minor": 5
}